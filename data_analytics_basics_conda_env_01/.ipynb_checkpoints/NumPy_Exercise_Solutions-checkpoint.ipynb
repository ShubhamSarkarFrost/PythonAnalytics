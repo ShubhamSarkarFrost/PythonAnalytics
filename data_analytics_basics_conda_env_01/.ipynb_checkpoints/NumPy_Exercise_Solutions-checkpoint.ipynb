{
 "cells": [
  {
   "cell_type": "code",
   "execution_count": 1,
   "id": "995a162f",
   "metadata": {},
   "outputs": [],
   "source": [
    "import numpy as np"
   ]
  },
  {
   "cell_type": "code",
   "execution_count": 2,
   "id": "741a74a6",
   "metadata": {},
   "outputs": [],
   "source": [
    "arr_zero = np.zeros(10)"
   ]
  },
  {
   "cell_type": "code",
   "execution_count": 3,
   "id": "941693f8",
   "metadata": {},
   "outputs": [
    {
     "data": {
      "text/plain": [
       "array([0., 0., 0., 0., 0., 0., 0., 0., 0., 0.])"
      ]
     },
     "execution_count": 3,
     "metadata": {},
     "output_type": "execute_result"
    }
   ],
   "source": [
    "arr_zero"
   ]
  },
  {
   "cell_type": "code",
   "execution_count": 4,
   "id": "45a60c51",
   "metadata": {},
   "outputs": [],
   "source": [
    "arr_ones = np.ones(10)"
   ]
  },
  {
   "cell_type": "code",
   "execution_count": 5,
   "id": "f0f5b963",
   "metadata": {},
   "outputs": [
    {
     "data": {
      "text/plain": [
       "array([1., 1., 1., 1., 1., 1., 1., 1., 1., 1.])"
      ]
     },
     "execution_count": 5,
     "metadata": {},
     "output_type": "execute_result"
    }
   ],
   "source": [
    "arr_ones"
   ]
  },
  {
   "cell_type": "code",
   "execution_count": 6,
   "id": "cb6f1ebb",
   "metadata": {},
   "outputs": [],
   "source": [
    "arr_fives = arr_ones * 5"
   ]
  },
  {
   "cell_type": "code",
   "execution_count": 7,
   "id": "7c704214",
   "metadata": {},
   "outputs": [
    {
     "data": {
      "text/plain": [
       "array([5., 5., 5., 5., 5., 5., 5., 5., 5., 5.])"
      ]
     },
     "execution_count": 7,
     "metadata": {},
     "output_type": "execute_result"
    }
   ],
   "source": [
    "arr_fives"
   ]
  },
  {
   "cell_type": "code",
   "execution_count": 10,
   "id": "62456463",
   "metadata": {},
   "outputs": [],
   "source": [
    "arr_numbers = np.arange(10,51)"
   ]
  },
  {
   "cell_type": "code",
   "execution_count": 11,
   "id": "67ea67e7",
   "metadata": {},
   "outputs": [
    {
     "data": {
      "text/plain": [
       "array([10, 11, 12, 13, 14, 15, 16, 17, 18, 19, 20, 21, 22, 23, 24, 25, 26,\n",
       "       27, 28, 29, 30, 31, 32, 33, 34, 35, 36, 37, 38, 39, 40, 41, 42, 43,\n",
       "       44, 45, 46, 47, 48, 49, 50])"
      ]
     },
     "execution_count": 11,
     "metadata": {},
     "output_type": "execute_result"
    }
   ],
   "source": [
    "arr_numbers"
   ]
  },
  {
   "cell_type": "code",
   "execution_count": 14,
   "id": "d4acfed6",
   "metadata": {},
   "outputs": [],
   "source": [
    "arr_even = np.arange(10,51,2)"
   ]
  },
  {
   "cell_type": "code",
   "execution_count": 15,
   "id": "52938ed6",
   "metadata": {},
   "outputs": [
    {
     "data": {
      "text/plain": [
       "array([10, 12, 14, 16, 18, 20, 22, 24, 26, 28, 30, 32, 34, 36, 38, 40, 42,\n",
       "       44, 46, 48, 50])"
      ]
     },
     "execution_count": 15,
     "metadata": {},
     "output_type": "execute_result"
    }
   ],
   "source": [
    "arr_even"
   ]
  },
  {
   "cell_type": "code",
   "execution_count": 16,
   "id": "a95eb9e4",
   "metadata": {},
   "outputs": [],
   "source": [
    "arra_3d = np.arange(0,9).reshape(3,3)"
   ]
  },
  {
   "cell_type": "code",
   "execution_count": 17,
   "id": "2ccf3808",
   "metadata": {},
   "outputs": [
    {
     "data": {
      "text/plain": [
       "array([[0, 1, 2],\n",
       "       [3, 4, 5],\n",
       "       [6, 7, 8]])"
      ]
     },
     "execution_count": 17,
     "metadata": {},
     "output_type": "execute_result"
    }
   ],
   "source": [
    "arra_3d"
   ]
  },
  {
   "cell_type": "code",
   "execution_count": 18,
   "id": "54ce39da",
   "metadata": {},
   "outputs": [],
   "source": [
    "arr_identity = np.eye(3)"
   ]
  },
  {
   "cell_type": "code",
   "execution_count": 19,
   "id": "fb295dfa",
   "metadata": {},
   "outputs": [
    {
     "data": {
      "text/plain": [
       "array([[1., 0., 0.],\n",
       "       [0., 1., 0.],\n",
       "       [0., 0., 1.]])"
      ]
     },
     "execution_count": 19,
     "metadata": {},
     "output_type": "execute_result"
    }
   ],
   "source": [
    "arr_identity"
   ]
  },
  {
   "cell_type": "code",
   "execution_count": 21,
   "id": "a922e5e4",
   "metadata": {},
   "outputs": [],
   "source": [
    "num_rand = np.random.rand(1)"
   ]
  },
  {
   "cell_type": "code",
   "execution_count": 22,
   "id": "cc568a35",
   "metadata": {},
   "outputs": [
    {
     "data": {
      "text/plain": [
       "array([0.54457422])"
      ]
     },
     "execution_count": 22,
     "metadata": {},
     "output_type": "execute_result"
    }
   ],
   "source": [
    "num_rand"
   ]
  },
  {
   "cell_type": "code",
   "execution_count": 23,
   "id": "add181f5",
   "metadata": {},
   "outputs": [],
   "source": [
    "arr_normald = np.random.randn(25)"
   ]
  },
  {
   "cell_type": "code",
   "execution_count": 24,
   "id": "19b32bd4",
   "metadata": {},
   "outputs": [
    {
     "data": {
      "text/plain": [
       "array([ 0.68442235, -0.10461101,  0.74434713, -0.73784232,  1.25012144,\n",
       "       -0.57137019, -0.39232595,  0.7592558 ,  0.6322001 , -0.38494117,\n",
       "        1.26274825, -0.22866347, -0.27683487,  1.6494224 ,  1.11925821,\n",
       "        1.25434152,  0.07411923,  1.23193936, -1.05934057,  1.40719069,\n",
       "       -0.05934421,  1.6489022 ,  0.32355961,  1.70266969,  1.13892919])"
      ]
     },
     "execution_count": 24,
     "metadata": {},
     "output_type": "execute_result"
    }
   ],
   "source": [
    "arr_normald"
   ]
  },
  {
   "cell_type": "code",
   "execution_count": 26,
   "id": "54debaba",
   "metadata": {},
   "outputs": [],
   "source": [
    "point_matrix = np.arange(1,101).reshape(10,10) / 100 "
   ]
  },
  {
   "cell_type": "code",
   "execution_count": 27,
   "id": "604c25ec",
   "metadata": {},
   "outputs": [
    {
     "data": {
      "text/plain": [
       "array([[0.01, 0.02, 0.03, 0.04, 0.05, 0.06, 0.07, 0.08, 0.09, 0.1 ],\n",
       "       [0.11, 0.12, 0.13, 0.14, 0.15, 0.16, 0.17, 0.18, 0.19, 0.2 ],\n",
       "       [0.21, 0.22, 0.23, 0.24, 0.25, 0.26, 0.27, 0.28, 0.29, 0.3 ],\n",
       "       [0.31, 0.32, 0.33, 0.34, 0.35, 0.36, 0.37, 0.38, 0.39, 0.4 ],\n",
       "       [0.41, 0.42, 0.43, 0.44, 0.45, 0.46, 0.47, 0.48, 0.49, 0.5 ],\n",
       "       [0.51, 0.52, 0.53, 0.54, 0.55, 0.56, 0.57, 0.58, 0.59, 0.6 ],\n",
       "       [0.61, 0.62, 0.63, 0.64, 0.65, 0.66, 0.67, 0.68, 0.69, 0.7 ],\n",
       "       [0.71, 0.72, 0.73, 0.74, 0.75, 0.76, 0.77, 0.78, 0.79, 0.8 ],\n",
       "       [0.81, 0.82, 0.83, 0.84, 0.85, 0.86, 0.87, 0.88, 0.89, 0.9 ],\n",
       "       [0.91, 0.92, 0.93, 0.94, 0.95, 0.96, 0.97, 0.98, 0.99, 1.  ]])"
      ]
     },
     "execution_count": 27,
     "metadata": {},
     "output_type": "execute_result"
    }
   ],
   "source": [
    "point_matrix"
   ]
  },
  {
   "cell_type": "code",
   "execution_count": 28,
   "id": "778ce542",
   "metadata": {},
   "outputs": [],
   "source": [
    "linear_matrix = np.linspace(0,1,20)"
   ]
  },
  {
   "cell_type": "code",
   "execution_count": 29,
   "id": "b12515ea",
   "metadata": {},
   "outputs": [
    {
     "data": {
      "text/plain": [
       "array([0.        , 0.05263158, 0.10526316, 0.15789474, 0.21052632,\n",
       "       0.26315789, 0.31578947, 0.36842105, 0.42105263, 0.47368421,\n",
       "       0.52631579, 0.57894737, 0.63157895, 0.68421053, 0.73684211,\n",
       "       0.78947368, 0.84210526, 0.89473684, 0.94736842, 1.        ])"
      ]
     },
     "execution_count": 29,
     "metadata": {},
     "output_type": "execute_result"
    }
   ],
   "source": [
    "linear_matrix"
   ]
  },
  {
   "cell_type": "code",
   "execution_count": 30,
   "id": "410fa286",
   "metadata": {},
   "outputs": [],
   "source": [
    "mat = np.arange(1,26).reshape(5,5)"
   ]
  },
  {
   "cell_type": "code",
   "execution_count": 31,
   "id": "8b280afe",
   "metadata": {},
   "outputs": [
    {
     "data": {
      "text/plain": [
       "array([[ 1,  2,  3,  4,  5],\n",
       "       [ 6,  7,  8,  9, 10],\n",
       "       [11, 12, 13, 14, 15],\n",
       "       [16, 17, 18, 19, 20],\n",
       "       [21, 22, 23, 24, 25]])"
      ]
     },
     "execution_count": 31,
     "metadata": {},
     "output_type": "execute_result"
    }
   ],
   "source": [
    "mat"
   ]
  },
  {
   "cell_type": "code",
   "execution_count": 33,
   "id": "1a12d4fd",
   "metadata": {},
   "outputs": [
    {
     "data": {
      "text/plain": [
       "array([[12, 13, 14, 15],\n",
       "       [17, 18, 19, 20],\n",
       "       [22, 23, 24, 25]])"
      ]
     },
     "execution_count": 33,
     "metadata": {},
     "output_type": "execute_result"
    }
   ],
   "source": [
    "mat[2:,1:]"
   ]
  },
  {
   "cell_type": "code",
   "execution_count": 34,
   "id": "104c6000",
   "metadata": {},
   "outputs": [
    {
     "data": {
      "text/plain": [
       "array([], shape=(1, 0), dtype=int32)"
      ]
     },
     "execution_count": 34,
     "metadata": {},
     "output_type": "execute_result"
    }
   ],
   "source": [
    "mat[3:4,5:]"
   ]
  },
  {
   "cell_type": "code",
   "execution_count": 35,
   "id": "ffcfff5a",
   "metadata": {},
   "outputs": [
    {
     "data": {
      "text/plain": [
       "20"
      ]
     },
     "execution_count": 35,
     "metadata": {},
     "output_type": "execute_result"
    }
   ],
   "source": [
    "mat[3,4]"
   ]
  },
  {
   "cell_type": "code",
   "execution_count": 36,
   "id": "6608af12",
   "metadata": {},
   "outputs": [
    {
     "data": {
      "text/plain": [
       "array([[ 2],\n",
       "       [ 7],\n",
       "       [12]])"
      ]
     },
     "execution_count": 36,
     "metadata": {},
     "output_type": "execute_result"
    }
   ],
   "source": [
    "mat[:3,1:2]"
   ]
  },
  {
   "cell_type": "code",
   "execution_count": 37,
   "id": "4ad0cbc2",
   "metadata": {},
   "outputs": [],
   "source": [
    "sum_mat = mat.sum()"
   ]
  },
  {
   "cell_type": "code",
   "execution_count": 38,
   "id": "346423b6",
   "metadata": {},
   "outputs": [
    {
     "data": {
      "text/plain": [
       "325"
      ]
     },
     "execution_count": 38,
     "metadata": {},
     "output_type": "execute_result"
    }
   ],
   "source": [
    "sum_mat"
   ]
  },
  {
   "cell_type": "code",
   "execution_count": 39,
   "id": "0dfb035d",
   "metadata": {},
   "outputs": [
    {
     "data": {
      "text/plain": [
       "7.211102550927978"
      ]
     },
     "execution_count": 39,
     "metadata": {},
     "output_type": "execute_result"
    }
   ],
   "source": [
    "mat.std()"
   ]
  },
  {
   "cell_type": "code",
   "execution_count": 40,
   "id": "6e43c1b2",
   "metadata": {},
   "outputs": [
    {
     "data": {
      "text/plain": [
       "array([55, 60, 65, 70, 75])"
      ]
     },
     "execution_count": 40,
     "metadata": {},
     "output_type": "execute_result"
    }
   ],
   "source": [
    "mat.sum(axis=0)"
   ]
  },
  {
   "cell_type": "code",
   "execution_count": null,
   "id": "16189c42",
   "metadata": {},
   "outputs": [],
   "source": []
  }
 ],
 "metadata": {
  "kernelspec": {
   "display_name": "Python 3 (ipykernel)",
   "language": "python",
   "name": "python3"
  },
  "language_info": {
   "codemirror_mode": {
    "name": "ipython",
    "version": 3
   },
   "file_extension": ".py",
   "mimetype": "text/x-python",
   "name": "python",
   "nbconvert_exporter": "python",
   "pygments_lexer": "ipython3",
   "version": "3.9.13"
  }
 },
 "nbformat": 4,
 "nbformat_minor": 5
}
